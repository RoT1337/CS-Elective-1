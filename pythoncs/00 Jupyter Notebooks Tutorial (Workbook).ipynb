{
 "cells": [
  {
   "cell_type": "markdown",
   "metadata": {
    "scrolled": true
   },
   "source": [
    "# Jupyter Notebooks Tutorial (Workbook)"
   ]
  },
  {
   "cell_type": "markdown",
   "metadata": {
    "collapsed": true
   },
   "source": [
    "\n",
    "Last modified January 18, 2019<br>\n",
    "[CC BY 4.0](https://creativecommons.org/licenses/by/4.0/)"
   ]
  },
  {
   "cell_type": "markdown",
   "metadata": {},
   "source": [
    "# WELCOME"
   ]
  },
  {
   "cell_type": "markdown",
   "metadata": {},
   "source": [
    "Welcome to this mini-tutorial on `Jupyter` Notebooks. This tutorial will run you through the basics of Jupyter. It is written in such a way that you learn not by reading, but by doing. Thus, it is encouraged that you execute the instructions as you go through this notebook. "
   ]
  },
  {
   "cell_type": "markdown",
   "metadata": {},
   "source": [
    "# How to Use"
   ]
  },
  {
   "cell_type": "markdown",
   "metadata": {},
   "source": [
    "First, make a copy of this notebook so that you can make changes as you please. Run and edit the copy instead of this original notebook. To copy this notebook, go to `File|Make a Copy`."
   ]
  },
  {
   "cell_type": "markdown",
   "metadata": {},
   "source": [
    "If this notebook is already a copy of the original, clear all outputs in this notebook. Go to the Menu and click on `Cell| All Output| Clear`. Once this is done, you're ready to go."
   ]
  },
  {
   "cell_type": "markdown",
   "metadata": {},
   "source": [
    "You are encouraged to run the codes and to experiment on them so that you become more familiar with what they do.\n",
    "\n",
    "You may also add your own annotations and make this your personal notebook."
   ]
  },
  {
   "cell_type": "markdown",
   "metadata": {},
   "source": [
    "<a id='contents'></a>"
   ]
  },
  {
   "cell_type": "markdown",
   "metadata": {},
   "source": [
    "# TABLE OF CONTENTS"
   ]
  },
  {
   "cell_type": "markdown",
   "metadata": {},
   "source": [
    "[1. Introduction](#lesson1)<br>\n",
    "[2. Creating, Inserting and Deleting Cells](#lesson2)<br>\n",
    "[3. Cell Types](#lesson3)<br>\n",
    "[4. Moving Cells Around](#lesson4)<br>\n",
    "[5. Running Cells](#lesson5)<br>\n",
    "[6. Formatting Code Outputs and Debugging Code](#lesson6)<br>\n",
    "[7. Menu and Shortcuts Commands](#lesson7)<br>\n",
    "[8. Inserting Image](#lesson8)<br>\n",
    "[9. Simple Formatting of Text in Markdown](#lesson9)<br>\n",
    "[10. Typing Formulas in LaTeX](#lesson10)<br>\n",
    "[References](#references)<br>"
   ]
  },
  {
   "cell_type": "markdown",
   "metadata": {},
   "source": [
    "<a id='lesson1'></a>"
   ]
  },
  {
   "cell_type": "markdown",
   "metadata": {},
   "source": [
    "# 1. Introduction"
   ]
  },
  {
   "cell_type": "markdown",
   "metadata": {},
   "source": [
    "## Jupyter Notebooks"
   ]
  },
  {
   "cell_type": "markdown",
   "metadata": {},
   "source": [
    "As described in [Jupyter's website](http://jupyter.org/):\n",
    "\n",
    ">The Jupyter Notebook is an open-source web application that allows you to create and share documents that contain live code, equations, visualizations and narrative text. Uses include: data cleaning and transformation, numerical simulation, statistical modeling, data visualization, machine learning, and much more.\n",
    "\n",
    "A Jupyter notebook is a file or document that contains text, code, program outputs, equations, graphs, images, etc. Think of notebooks as a place in which you could gather together related materials for analysis. Thus, a Jupyter notebook could be used to write an experiment journal, a book chapter, a tutorial, a draft of a conference paper, etc."
   ]
  },
  {
   "cell_type": "markdown",
   "metadata": {},
   "source": [
    "Jupyter Notebooks uses `JavaScript`, programming language kernels (the one that runs or executes code), and other tools (e.g. MathJax for $LaTex$ and `matplotlib` for plotting) to combine different types of contents and display them in a web browser. "
   ]
  },
  {
   "cell_type": "markdown",
   "metadata": {},
   "source": [
    "Jupyter Notebooks was initially developed for `Python` and was then called iPython Notebooks.  Now, Jupyter could also be used to run codes in **40 other programming languages**. Its initial target languages are `Julia`, `Python` and `R`, which are concatenated together to spell `Jupyter`."
   ]
  },
  {
   "cell_type": "markdown",
   "metadata": {},
   "source": [
    "## Cells"
   ]
  },
  {
   "cell_type": "markdown",
   "metadata": {},
   "source": [
    "Jupyter Notebook's basic element is the `Cell`.  In a cell, you can put code, text, graphs, images, etc. Cells are marked by blue-and-gray or green boxes. When you opened this notebook, you may have seen a gray border with a blue left band. That indicates that the notebook is in Command Mode (more on this later).  If the color of the left margin of the border is green, press **`Escape`**. You should now be seeing a blue left margin. You could navigate through the different cells using the **`Down Arrow`** and **`Up Arrow`** buttons as you read through the other parts of this tutorial."
   ]
  },
  {
   "cell_type": "markdown",
   "metadata": {},
   "source": [
    "## Command and Edit Modes"
   ]
  },
  {
   "cell_type": "markdown",
   "metadata": {},
   "source": [
    "Frpm the `Help` on `Keyboard Shortcuts` of Jupyter Notebooks:\n",
    "\n",
    ">The Jupyter Notebook has two different keyboard input modes. `Edit mode` allows you to type code or text into a cell and is indicated by a green cell border. `Command mode` binds the keyboard to notebook level commands and is indicated by a grey cell border with a blue left margin."
   ]
  },
  {
   "cell_type": "markdown",
   "metadata": {},
   "source": [
    "### Command Mode"
   ]
  },
  {
   "cell_type": "markdown",
   "metadata": {},
   "source": [
    "The `Command Mode` is for sending commands or instructions to Jupyter via keyboard input. Sample commands are: run this cell, copy this cell, change the cell type. In the Command Mode, the cells are marked by a grey cell border with a `blue left margin`. You can activate the Command Mode by pressing **`Escape`**. "
   ]
  },
  {
   "cell_type": "markdown",
   "metadata": {},
   "source": [
    "### Edit Mode"
   ]
  },
  {
   "cell_type": "markdown",
   "metadata": {},
   "source": [
    "The `Edit Mode` is for, you guessed it, editing the contents of a cell. You can activate the Edit Mode of some cells simply by clicking inside the box (this is for Raw and Code cells, more on these later), or, for a cell with formatted text, either by selecting it then pressing **`Enter`**, or by `double-clicking` on the cell. In the Edit Mode, the cells are marked by a green border with a `green left margin`. "
   ]
  },
  {
   "cell_type": "markdown",
   "metadata": {},
   "source": [
    "Below is a **formatted cell**. Activate the Edit mode on it by selecting it, then pressing `Enter`. Edit the cell by typing something. If you're able to do this, it means that you are in the Edit Mode. Go back to the Command Mode by pressing `Escape`. Then press **`Shift-Enter`** to format or render the cell and move to the next cell. "
   ]
  },
  {
   "cell_type": "markdown",
   "metadata": {},
   "source": [
    "**Edit** this cell. This `cell` contains *formatted text*."
   ]
  },
  {
   "cell_type": "markdown",
   "metadata": {},
   "source": [
    "Now below is a **code cell**. Activate the Edit mode on the cell by clicking inside it.  Edit the cell by typing something (just don't erase the `#` at the beginning of the line). If you're able to do this, it means that you are in the Edit Mode. Go back to the Command Mode by pressing `Escape`. Then press **`Shift-Enter`** to move to the next cell. "
   ]
  },
  {
   "cell_type": "raw",
   "metadata": {},
   "source": [
    "# Edit this cell too. This is a line of code that does absolutely nothing."
   ]
  },
  {
   "cell_type": "markdown",
   "metadata": {},
   "source": [
    "### Undo Commmand in Edit Mode"
   ]
  },
  {
   "cell_type": "markdown",
   "metadata": {},
   "source": [
    "You could undo the changes you made in a cell by going to `Edit Mode` and pressing **`Ctrl-z`**. Go the the cell you've edited above and try to undo the changes you've made by pressing `Ctrl-z` several times until all your edits are gone. Press `Ctrl-Enter` afterwards."
   ]
  },
  {
   "cell_type": "markdown",
   "metadata": {},
   "source": [
    "### Saving your Work"
   ]
  },
  {
   "cell_type": "markdown",
   "metadata": {},
   "source": [
    "Jupyter autosaves your work every few minutes or so.  You could also do a manual save by going to `File| Save and Checkpoint` in the Menu. "
   ]
  },
  {
   "cell_type": "markdown",
   "metadata": {},
   "source": [
    "## Summary of Commands: Lesson 1 - Introduction"
   ]
  },
  {
   "cell_type": "markdown",
   "metadata": {},
   "source": [
    "    Esc         Activate Command Mode\n",
    "    Enter       Activate Edit Mode\n",
    "    Down Arrow  Move to cell below\n",
    "    Up Arrow    Move to cell above\n",
    "    Shift-Enter Run the current cell and move to the next cell (done in Edit Mode)\n",
    "    Ctrl-z      Undo changes in Edit Mode"
   ]
  },
  {
   "cell_type": "markdown",
   "metadata": {},
   "source": [
    "[TABLE OF CONTENTS](#contents)"
   ]
  },
  {
   "cell_type": "markdown",
   "metadata": {},
   "source": [
    "<a id='lesson2'></a>"
   ]
  },
  {
   "cell_type": "markdown",
   "metadata": {},
   "source": [
    "# 2. Creating, Inserting and Deleting Cells"
   ]
  },
  {
   "cell_type": "markdown",
   "metadata": {
    "collapsed": true
   },
   "source": [
    "## Creating/Inserting a New Cell Below"
   ]
  },
  {
   "cell_type": "markdown",
   "metadata": {},
   "source": [
    "#### Inserting a New Code Cell "
   ]
  },
  {
   "cell_type": "markdown",
   "metadata": {},
   "source": [
    "Select the first horizontal divider below and create a new cell by going to the Menu and selecting `Insert|Cell Below`. Jupyter will create a new cell and select it. Notice that the cell has a blue left margin indicating that you are in Command Mode. Press `Enter` to activate Edit Mode. You should see the left margin change into green. Now type the following into the new cell: \n",
    "\n",
    "```python\n",
    "print(\"Hi!\")\n",
    "```\n",
    "\n",
    "After typing, press the `Shift-Enter` to run the code and move to the next cell."
   ]
  },
  {
   "cell_type": "markdown",
   "metadata": {},
   "source": [
    "---"
   ]
  },
  {
   "cell_type": "markdown",
   "metadata": {},
   "source": [
    "---"
   ]
  },
  {
   "cell_type": "markdown",
   "metadata": {},
   "source": [
    "You have just executed a Python code and seen its output!"
   ]
  },
  {
   "cell_type": "markdown",
   "metadata": {},
   "source": [
    "#### Inserting a New Cell with Text"
   ]
  },
  {
   "cell_type": "markdown",
   "metadata": {},
   "source": [
    "You could also enter text (such as this one) in Jupyter. \n",
    "\n",
    "Let's create a new cell below, but this time, let's use a command. Select the first horizontal divider below and press the letter **`b`**. This should do the same this as what you did earlier. Now, instead of code, we will put in text. \n",
    "\n",
    "Now without selecting the cell, press **`m`** (`m` stands for markdown; more on this below). You will notice that the text `In [ ]` has now disappeared. This means that the cell no longer contains code.\n",
    "Activate the Edit Mode by pressing `Enter`. Now type the text below:\n",
    "\n",
    ">This is not code\n",
    "\n",
    "Now render the cell by pressing `Shift-Enter`."
   ]
  },
  {
   "cell_type": "markdown",
   "metadata": {},
   "source": [
    "---"
   ]
  },
  {
   "cell_type": "markdown",
   "metadata": {},
   "source": [
    "---"
   ]
  },
  {
   "cell_type": "markdown",
   "metadata": {},
   "source": [
    "You have successfully entered a text in a cell."
   ]
  },
  {
   "cell_type": "markdown",
   "metadata": {},
   "source": [
    "## Creating/Inserting Cell Above "
   ]
  },
  {
   "cell_type": "markdown",
   "metadata": {},
   "source": [
    "Cells could also be inserted above other cells by clicking on the Menu's `Insert|Cell Above` or by pressing **`a`** in Edit Mode.  "
   ]
  },
  {
   "cell_type": "markdown",
   "metadata": {},
   "source": [
    "Select the cell of the second horizontal divider below then press `a`. Press `m` to convert the cell to text(or markdown).  Press `Enter` to go to Edit Mode and enter the following text: \n",
    "\n",
    ">This is cell was inserted above\n",
    "\n",
    "Then press `Shift-Enter`"
   ]
  },
  {
   "cell_type": "markdown",
   "metadata": {},
   "source": [
    "---"
   ]
  },
  {
   "cell_type": "markdown",
   "metadata": {},
   "source": [
    "---"
   ]
  },
  {
   "cell_type": "markdown",
   "metadata": {},
   "source": [
    "## Summary of Commands: Lesson 2  - Creating, Inserting and Deleting Cells"
   ]
  },
  {
   "cell_type": "markdown",
   "metadata": {},
   "source": [
    "    b            Insert cell below\n",
    "    a            Insert cell above\n",
    "\n",
    "    m            Change cell type to Markdown (more on this below)\n",
    "    Shift-Enter  Run the current cell and move to the next cell (done in Edit Mode)"
   ]
  },
  {
   "cell_type": "markdown",
   "metadata": {},
   "source": [
    "[TABLE OF CONTENTS](#contents)"
   ]
  },
  {
   "cell_type": "markdown",
   "metadata": {},
   "source": [
    "<a id='lesson3'></a>"
   ]
  },
  {
   "cell_type": "markdown",
   "metadata": {},
   "source": [
    "# 3. Cell Types"
   ]
  },
  {
   "cell_type": "markdown",
   "metadata": {},
   "source": [
    "Python has several cell types. You are already familiar with two of them. Below is a summary of the all the cell types.\n",
    "- `Code` : Text interpreted as Code and is run by the active kernel \n",
    "- `Markdown` : Text that could be rendered in simple formatting.\n",
    "- `Raw NBConvert`: Raw text, that is, text that is neither code nor markdown. \n",
    "- `Heading`: Text rendered as HTML headings. This could go from Heading1 (largest) to Heading6 (smallest)."
   ]
  },
  {
   "cell_type": "markdown",
   "metadata": {},
   "source": [
    "## Changing Cell Types in Command Mode"
   ]
  },
  {
   "cell_type": "markdown",
   "metadata": {},
   "source": [
    "To change cell types, activate the Command Mode by pressing `Escape` and type the following commands. \n",
    "- Code:     `y`\n",
    "- Markdown: `m`\n",
    "- Raw:      `r`\n",
    "\n",
    "- Heading 1: `1`\n",
    "- Heading 2: `2`\n",
    "- Heading 3: `3`\n",
    "- Heading 4: `4`\n",
    "- Heading 5: `5`\n",
    "- Heading 6: `6`"
   ]
  },
  {
   "cell_type": "markdown",
   "metadata": {},
   "source": [
    "Change the cell types of the different cells below into the indicated type. Then run each cell by pressing `Shift-Enter`."
   ]
  },
  {
   "cell_type": "markdown",
   "metadata": {},
   "source": [
    "#### Convert the cell below into `Code` (press `y`) and run it."
   ]
  },
  {
   "cell_type": "raw",
   "metadata": {},
   "source": [
    "print('This should be placed in a code cell')"
   ]
  },
  {
   "cell_type": "markdown",
   "metadata": {},
   "source": [
    "#### Convert the cell below into `Markdown` (press `m`) and run it."
   ]
  },
  {
   "cell_type": "code",
   "execution_count": null,
   "metadata": {},
   "outputs": [],
   "source": [
    "This text is an _explanation_, not *code*. Convert this to a **Markdown** type cell."
   ]
  },
  {
   "cell_type": "markdown",
   "metadata": {},
   "source": [
    "#### Convert the cell below into `Raw` (press `r`) and run it."
   ]
  },
  {
   "cell_type": "code",
   "execution_count": null,
   "metadata": {},
   "outputs": [],
   "source": [
    "This text is neither Code nor Markdown so this should be in Raw mode."
   ]
  },
  {
   "cell_type": "markdown",
   "metadata": {},
   "source": [
    "#### Convert the cell below into different `Heading` numbers (press `1`-`6`) and run it."
   ]
  },
  {
   "cell_type": "markdown",
   "metadata": {},
   "source": [
    "# Try to convert this text in Headings 1-6 and see the effect."
   ]
  },
  {
   "cell_type": "markdown",
   "metadata": {},
   "source": [
    "## Summary of Commands: Lesson 3  - Cell Types"
   ]
  },
  {
   "cell_type": "markdown",
   "metadata": {},
   "source": [
    "    y   Convert cell type to Code\n",
    "    m   Convert cell type to Markdown\n",
    "    r   Convert cell type to Raw\n",
    "    1   Convert cell type to Heading 1 (largest)\n",
    "    2   Convert cell type to Heading 2 \n",
    "    3   Convert cell type to Heading 3 \n",
    "    4   Convert cell type to Heading 4 \n",
    "    5   Convert cell type to Heading 5 \n",
    "    6   Convert cell type to Heading 6 (smallest)"
   ]
  },
  {
   "cell_type": "markdown",
   "metadata": {},
   "source": [
    "[TABLE OF CONTENTS](#contents)"
   ]
  },
  {
   "cell_type": "markdown",
   "metadata": {},
   "source": [
    "<a id='lesson4'></a>"
   ]
  },
  {
   "cell_type": "markdown",
   "metadata": {},
   "source": [
    "# 4. Moving Cells Around"
   ]
  },
  {
   "cell_type": "markdown",
   "metadata": {},
   "source": [
    "### Copying and Pasting Below Cells"
   ]
  },
  {
   "cell_type": "markdown",
   "metadata": {},
   "source": [
    "`Copy` the cell below the horizontal divider by selecting it then pressing **`c`**. Then `paste` 2 copies of it below it by pressing **`v`** twice."
   ]
  },
  {
   "cell_type": "markdown",
   "metadata": {},
   "source": [
    "---"
   ]
  },
  {
   "cell_type": "raw",
   "metadata": {},
   "source": [
    "Copy me!"
   ]
  },
  {
   "cell_type": "markdown",
   "metadata": {},
   "source": [
    "---"
   ]
  },
  {
   "cell_type": "markdown",
   "metadata": {},
   "source": [
    "### Cutting Cells"
   ]
  },
  {
   "cell_type": "markdown",
   "metadata": {},
   "source": [
    "`Cut` the cell below the horizontal divider by selecting it and pressing **`x`** in Command mode. This will place the cell in the clipboard. Move up one cell by pressing the `Up Arrow`, then press `v` 3 times to paste 3 copies of the cell."
   ]
  },
  {
   "cell_type": "markdown",
   "metadata": {},
   "source": [
    "---"
   ]
  },
  {
   "cell_type": "raw",
   "metadata": {},
   "source": [
    "Cut-and-paste me!"
   ]
  },
  {
   "cell_type": "markdown",
   "metadata": {},
   "source": [
    "---"
   ]
  },
  {
   "cell_type": "markdown",
   "metadata": {},
   "source": [
    "### Pasting Cells above"
   ]
  },
  {
   "cell_type": "markdown",
   "metadata": {},
   "source": [
    "Copy the cell below by selecting it and pressing `c`. Then, go to the second horizontal divider and paste the cell by pressing **`Shift-v`**."
   ]
  },
  {
   "cell_type": "raw",
   "metadata": {},
   "source": [
    "Copy me, then paste me above the second divider below."
   ]
  },
  {
   "cell_type": "markdown",
   "metadata": {},
   "source": [
    "---"
   ]
  },
  {
   "cell_type": "markdown",
   "metadata": {},
   "source": [
    "---"
   ]
  },
  {
   "cell_type": "markdown",
   "metadata": {},
   "source": [
    "### Deleting Cells"
   ]
  },
  {
   "cell_type": "markdown",
   "metadata": {},
   "source": [
    "You can delete cells by pressing **`dd`** (quickly pressing `d` twice) in Command Mode. This **will not** copy the cell to the clipboard. Delete the cells between the two horizontal dividers below."
   ]
  },
  {
   "cell_type": "markdown",
   "metadata": {},
   "source": [
    "---"
   ]
  },
  {
   "cell_type": "raw",
   "metadata": {},
   "source": [
    "Delete me"
   ]
  },
  {
   "cell_type": "raw",
   "metadata": {},
   "source": [
    "Delete me "
   ]
  },
  {
   "cell_type": "raw",
   "metadata": {},
   "source": [
    "Delete me "
   ]
  },
  {
   "cell_type": "markdown",
   "metadata": {},
   "source": [
    "---"
   ]
  },
  {
   "cell_type": "markdown",
   "metadata": {},
   "source": [
    "### Merging Cells"
   ]
  },
  {
   "cell_type": "markdown",
   "metadata": {},
   "source": [
    "Pressing **`Shift-m`** in Command Mode will merge a current cell with the one below it. In the Menu, this can be done by going to `Edit| Merge Cell Below`.  Try it with the two cells below."
   ]
  },
  {
   "cell_type": "raw",
   "metadata": {},
   "source": [
    "No cell is an island."
   ]
  },
  {
   "cell_type": "raw",
   "metadata": {},
   "source": [
    "In cell union there is strength."
   ]
  },
  {
   "cell_type": "markdown",
   "metadata": {},
   "source": [
    "Do it also for the two lines of code below. Press `Shift-Enter` to run the code."
   ]
  },
  {
   "cell_type": "code",
   "execution_count": null,
   "metadata": {},
   "outputs": [],
   "source": [
    "s1 = 'No cell is an island.'\n",
    "s2 = 'In cell union there is strength.'"
   ]
  },
  {
   "cell_type": "code",
   "execution_count": null,
   "metadata": {},
   "outputs": [],
   "source": [
    "print(s1,s2)"
   ]
  },
  {
   "cell_type": "markdown",
   "metadata": {},
   "source": [
    "## Summary of Commands: Lesson 4 - Moving Cells Around"
   ]
  },
  {
   "cell_type": "markdown",
   "metadata": {},
   "source": [
    "    c        Copy cell\n",
    "    v        Paste cell below\n",
    "    x        Cut cell (save in clipboard)\n",
    "    Shift-v  Paste cell above\n",
    "    dd       Delete cell (won't save the cell in clipboard)\n",
    "    Shift-m  Merge this cell with the cell below; Merge all selected cells"
   ]
  },
  {
   "cell_type": "markdown",
   "metadata": {},
   "source": [
    "[TABLE OF CONTENTS](#contents)"
   ]
  },
  {
   "cell_type": "markdown",
   "metadata": {},
   "source": [
    "<a id='lesson5'></a>"
   ]
  },
  {
   "cell_type": "markdown",
   "metadata": {},
   "source": [
    "# 5. Running Cells"
   ]
  },
  {
   "cell_type": "markdown",
   "metadata": {},
   "source": [
    "Cells are rendered by `running` them. This interprets the cell according to its type.\n",
    "- `Code`: Code cells are run by executing the code according to the appropriate programming kernel. In our case, this would be the _Python kernel_.\n",
    "- `Markdown`: Markdown cells are formated into their corresponding HTML format, which is the way by which websites are displayed and rendered.\n",
    "- `Raw`: Raw text are not interpreted as code or formatted text. They are thus displayed as-is.\n",
    "- `Headings`: Heading cells are rendered as HTML headings."
   ]
  },
  {
   "cell_type": "markdown",
   "metadata": {},
   "source": [
    "## Ways to Run a Cell"
   ]
  },
  {
   "cell_type": "markdown",
   "metadata": {},
   "source": [
    "Cells could be run in the following ways:\n",
    "- **`Ctrl-Enter`**: Run the cell and `select`  it.\n",
    "- **`Shift-Enter`**: Run the cell then `select below` it. \n",
    "- **`Alt-Enter`**: Run the cell then `insert below` it. "
   ]
  },
  {
   "cell_type": "markdown",
   "metadata": {},
   "source": [
    "### Run and Select"
   ]
  },
  {
   "cell_type": "markdown",
   "metadata": {},
   "source": [
    "Run the cell below by pressing **`Ctrl-Enter`**. Notice that the cell selection remains in the same cell. (Code from: [Matplotlib Gallery](https://matplotlib.org/gallery/pyplots/pyplot_mathtext.html#sphx-glr-gallery-pyplots-pyplot-mathtext-py))"
   ]
  },
  {
   "cell_type": "code",
   "execution_count": null,
   "metadata": {},
   "outputs": [],
   "source": [
    "%matplotlib inline\n",
    "import numpy as np\n",
    "import matplotlib.pyplot as plt\n",
    "t = np.arange(0.0, 2.0, 0.01)\n",
    "s = np.sin(2*np.pi*t)\n",
    "\n",
    "plt.plot(t,s)\n",
    "plt.title(r'$\\alpha_i > \\beta_i$', fontsize=20)\n",
    "plt.text(1, -0.6, r'$\\sum_{i=0}^\\infty x_i$', fontsize=20)\n",
    "plt.text(0.6, 0.6, r'$\\mathcal{A}\\mathrm{sin}(2 \\omega t)$',\n",
    "         fontsize=20)\n",
    "plt.xlabel('time (s)')\n",
    "plt.ylabel('volts (mV)')\n",
    "plt.show()"
   ]
  },
  {
   "cell_type": "markdown",
   "metadata": {},
   "source": [
    "### Run and Select Below"
   ]
  },
  {
   "cell_type": "markdown",
   "metadata": {},
   "source": [
    "Copy the cell below and convert the copied cell to Markdown. Run the copied cell by pressing **`Shift-Enter`**. Notice that the cell selection goes to the cell below."
   ]
  },
  {
   "cell_type": "raw",
   "metadata": {},
   "source": [
    "\\begin{equation*}\n",
    "\\left( \\sum_{k=1}^n a_k b_k \\right)^2 \\leq \\left( \\sum_{k=1}^n a_k^2 \\right) \\left( \\sum_{k=1}^n b_k^2 \\right)\n",
    "\\end{equation*}"
   ]
  },
  {
   "cell_type": "markdown",
   "metadata": {},
   "source": [
    "### Run and Insert Below"
   ]
  },
  {
   "cell_type": "markdown",
   "metadata": {},
   "source": [
    "Run the cell below by using **`Alt-Enter`**. This will create a new Cell below. "
   ]
  },
  {
   "cell_type": "code",
   "execution_count": null,
   "metadata": {},
   "outputs": [],
   "source": [
    "print('Press Alt-Enter and check out the new cell I made for you below.')"
   ]
  },
  {
   "cell_type": "markdown",
   "metadata": {},
   "source": [
    "---"
   ]
  },
  {
   "cell_type": "markdown",
   "metadata": {},
   "source": [
    "## Running Cells from the Menu"
   ]
  },
  {
   "cell_type": "markdown",
   "metadata": {},
   "source": [
    "Cells could also be run from the Menu. From the Menu, it's also possible to run multiple cells."
   ]
  },
  {
   "cell_type": "markdown",
   "metadata": {},
   "source": [
    "    - Cell| Run All\n",
    "    - Cell| Run Above\n",
    "    - Cell| Run Below"
   ]
  },
  {
   "cell_type": "markdown",
   "metadata": {},
   "source": [
    "## Summary of Commands: Lesson 5 - Running Cells"
   ]
  },
  {
   "cell_type": "markdown",
   "metadata": {},
   "source": [
    "    Ctrl-Enter   Run the cell then seletc the same cell\n",
    "    Shift-Enter  Run the cell then select the cell below it \n",
    "    Alt-Enter    Run the cell then insert a cell below it"
   ]
  },
  {
   "cell_type": "markdown",
   "metadata": {},
   "source": [
    "[TABLE OF CONTENTS](#contents)"
   ]
  },
  {
   "cell_type": "markdown",
   "metadata": {},
   "source": [
    "<a id='lesson6'></a>"
   ]
  },
  {
   "cell_type": "markdown",
   "metadata": {},
   "source": [
    "# 6. Formatting Code Outputs and Debugging Code"
   ]
  },
  {
   "cell_type": "markdown",
   "metadata": {},
   "source": [
    "## Formatting Code Outputs"
   ]
  },
  {
   "cell_type": "markdown",
   "metadata": {},
   "source": [
    "### Toggling Cell Outputs"
   ]
  },
  {
   "cell_type": "markdown",
   "metadata": {},
   "source": [
    "By now, you will have observed already that running a code in a cell produces an output that is attached to the cell.\n",
    "For instance, try running the cell below."
   ]
  },
  {
   "cell_type": "code",
   "execution_count": null,
   "metadata": {},
   "outputs": [],
   "source": [
    "for i in range(50):\n",
    "    print(i)"
   ]
  },
  {
   "cell_type": "markdown",
   "metadata": {},
   "source": [
    "The code above printed numbers from 0 to 49, attaching an output to the code cell. The output is quite long. You could collapse or expand this output by clicking on the left side of the cell block (on the white space). You could also do this by simply pressing **`o`** in Command Mode. Try collapsing, then expanding the cell with both methods.  "
   ]
  },
  {
   "cell_type": "markdown",
   "metadata": {},
   "source": [
    "### Menu Commands for Outputs"
   ]
  },
  {
   "cell_type": "markdown",
   "metadata": {},
   "source": [
    "The following Menu commands could also be used to manage the outputs of the Current cell or All cells."
   ]
  },
  {
   "cell_type": "markdown",
   "metadata": {},
   "source": [
    "    - Cell| Current Output| Toggle\n",
    "    - Cell| Current Output| Toggle Scrolling\n",
    "    - Cell| Current Output| Clear\n",
    "    - Cell| All Output| Toggle\n",
    "    - Cell| All Output| Toggle Scrolling\n",
    "    - Cell| All Output| Clear"
   ]
  },
  {
   "cell_type": "markdown",
   "metadata": {},
   "source": [
    "## Debugging Code"
   ]
  },
  {
   "cell_type": "markdown",
   "metadata": {},
   "source": [
    "### Toggle Line Number Display"
   ]
  },
  {
   "cell_type": "markdown",
   "metadata": {},
   "source": [
    "If you make an error in the code, the Python kernel will output a `Traceback` a message which is supposed to help you identify where the error is. Try running the cell below. "
   ]
  },
  {
   "cell_type": "code",
   "execution_count": null,
   "metadata": {},
   "outputs": [],
   "source": [
    "# This code has an error\n",
    "for i in [0,1]:\n",
    "    Print('Hello!')"
   ]
  },
  {
   "cell_type": "markdown",
   "metadata": {},
   "source": [
    "Look for the long arrow and the line number to check the source of the error. You can display the line number in a cell by pressing **`l`** (small letter L) in Command Mode. "
   ]
  },
  {
   "cell_type": "markdown",
   "metadata": {},
   "source": [
    "You could display line numbers for all Code Cells by going to Menu `View| Toggle Line Numbers`. Show the line numbers in the cell above by doing either method just mentioned. "
   ]
  },
  {
   "cell_type": "markdown",
   "metadata": {},
   "source": [
    "The code above is reproduced below.  The error is the following: `Print` should be `print` (Python is case-sensitive). Correct the code **below** and run it. "
   ]
  },
  {
   "cell_type": "code",
   "execution_count": null,
   "metadata": {},
   "outputs": [],
   "source": [
    "# Correct the code below\n",
    "for i in [0,1]:\n",
    "    Print('Hello!')"
   ]
  },
  {
   "cell_type": "markdown",
   "metadata": {},
   "source": [
    "Now the cell outputs correctly. Turn off the line numbering."
   ]
  },
  {
   "cell_type": "markdown",
   "metadata": {},
   "source": [
    "### Interrupting the Kernel"
   ]
  },
  {
   "cell_type": "markdown",
   "metadata": {},
   "source": [
    "As mentioned above, the `kernel` is the one that runs your code. If your code takes too long to run or enters into an infinite loop (a badly-coded loop that does not terminate), you could interrupt the kernel so that you could correct your code.\n",
    "\n",
    "Try running the cell below that contains an infinite loop. You will notice that the square bracket on the left side contains an asterisk(**`*`**) which indicates that the code in the cell is still running.\n",
    "\n",
    "Interrupt the kernel pressing **`ii`** in Command Mode. You could also click on `Kernel| Interrupt` in the Menu. "
   ]
  },
  {
   "cell_type": "code",
   "execution_count": null,
   "metadata": {
    "scrolled": false
   },
   "outputs": [],
   "source": [
    "import time\n",
    "\n",
    "iter = 0\n",
    "while True:\n",
    "    iter += 1\n",
    "    print('Iteration:', iter, 'This loop, like True Love, will never end.')\n",
    "    time.sleep(0.5)"
   ]
  },
  {
   "cell_type": "markdown",
   "metadata": {},
   "source": [
    "### Clearing the Output"
   ]
  },
  {
   "cell_type": "markdown",
   "metadata": {},
   "source": [
    "Iterrupting the kernel does not clear the output of the cells. Run the cell below, then interrupt the kernel.\n",
    "Clear the output of the cell by selecting the cell then going to Menu's `Cell|Current Outputs|Clear`."
   ]
  },
  {
   "cell_type": "code",
   "execution_count": null,
   "metadata": {},
   "outputs": [],
   "source": [
    "import time\n",
    "\n",
    "iter = 0\n",
    "while True:\n",
    "    iter += 1\n",
    "    print('Iteration:', iter, 'This loop, like True Love, will never end.')\n",
    "    time.sleep(0.5)"
   ]
  },
  {
   "cell_type": "markdown",
   "metadata": {},
   "source": [
    "### Restart and Clear Output"
   ]
  },
  {
   "cell_type": "markdown",
   "metadata": {},
   "source": [
    "If you truly want a clean start for running your notebook, you could go to the Menu and click `Kernel| Restart and Clear All Output`."
   ]
  },
  {
   "cell_type": "markdown",
   "metadata": {},
   "source": [
    "## Summary of Commands: Lesson 6 - Formatting Code Outputs and Debugging Code"
   ]
  },
  {
   "cell_type": "markdown",
   "metadata": {},
   "source": [
    "    l   Toggle showing of line numbers\n",
    "    o   Toggle showing of cell outputs\n",
    "    ii  Interupt the Kernel"
   ]
  },
  {
   "cell_type": "markdown",
   "metadata": {},
   "source": [
    "[TABLE OF CONTENTS](#contents)"
   ]
  },
  {
   "cell_type": "markdown",
   "metadata": {},
   "source": [
    "<a id='lesson7'></a>"
   ]
  },
  {
   "cell_type": "markdown",
   "metadata": {},
   "source": [
    "# 7. Menu and Shortcuts Commands"
   ]
  },
  {
   "cell_type": "markdown",
   "metadata": {},
   "source": [
    "## Menu Commands"
   ]
  },
  {
   "cell_type": "markdown",
   "metadata": {},
   "source": [
    "Most of the things you could do in Jupyter are in the `Menu`.  Explore the Menu and try out the various commands, especially the following:"
   ]
  },
  {
   "cell_type": "markdown",
   "metadata": {},
   "source": [
    "    - File| New Notebook\n",
    "    - File| Rename\n",
    "    - File| Save and Checkpoint\n",
    "    - Edit| Cut Cells\n",
    "    - Edit| Copy Cells\n",
    "    - Edit| Paste Cells Above\n",
    "    - Edit| Paste Cells Below\n",
    "    - Edit| Delete Cells\n",
    "    - Edit| Merge Cells Above\n",
    "    - Edit| Merge Cells Below\n",
    "    - Edit| Move Cell Up\n",
    "    - Edit| Move Cell Below\n",
    "    - Cell| Cell Type"
   ]
  },
  {
   "cell_type": "markdown",
   "metadata": {},
   "source": [
    "## Keyboard Shortcuts"
   ]
  },
  {
   "cell_type": "markdown",
   "metadata": {},
   "source": [
    "You could check out the keyboard shortcuts in any of the following ways: \n",
    "- In Command Mode, press **`h`**\n",
    "- Click on the **keyboard icon** from the Menu's tool bar\n",
    "- From the Menu, click on `Help|Keyboard Shortcuts` "
   ]
  },
  {
   "cell_type": "markdown",
   "metadata": {},
   "source": [
    "You don't have to memorize all of these. At the beginning, you could survive with commands activated from the Menu. As you use Jupyter more, you will want to use shortcuts for the commands you use often so that you could work faster."
   ]
  },
  {
   "cell_type": "markdown",
   "metadata": {},
   "source": [
    "## Summary of Commands: Lesson 7 - Menu and Shortcuts Commands"
   ]
  },
  {
   "cell_type": "markdown",
   "metadata": {},
   "source": [
    "    h   Show Keyboardshortcuts"
   ]
  },
  {
   "cell_type": "markdown",
   "metadata": {},
   "source": [
    "[TABLE OF CONTENTS](#contents)"
   ]
  },
  {
   "cell_type": "markdown",
   "metadata": {},
   "source": [
    "<a id='lesson8'></a>"
   ]
  },
  {
   "cell_type": "markdown",
   "metadata": {},
   "source": [
    "# 8. Inserting Image"
   ]
  },
  {
   "cell_type": "markdown",
   "metadata": {},
   "source": [
    "You could insert an image in a Markdown cell. Try the following: \n",
    "1. Insert a cell below (press `b` in Command Mode)\n",
    "2. Convert the cell to Markdown by pressing `m`\n",
    "3. To insert an image, press **`Shift-i`** in Command Mode or go to the Menu then select `Edit| Insert Image`. \n",
    "4. Select the image that you want to insert. \n",
    "5. Run the cell by pressing `Shift-Enter`"
   ]
  },
  {
   "cell_type": "markdown",
   "metadata": {},
   "source": [
    "## Summary of Commands: Lesson 8 - Inserting Image"
   ]
  },
  {
   "cell_type": "markdown",
   "metadata": {},
   "source": [
    "    Shift-i   Insert an Image (in Command Mode)"
   ]
  },
  {
   "cell_type": "markdown",
   "metadata": {},
   "source": [
    "[TABLE OF CONTENTS](#contents)"
   ]
  },
  {
   "cell_type": "markdown",
   "metadata": {},
   "source": [
    "<a id='lesson9'></a>"
   ]
  },
  {
   "cell_type": "markdown",
   "metadata": {},
   "source": [
    "# 9. Simple Formatting of Text in Markdown"
   ]
  },
  {
   "cell_type": "markdown",
   "metadata": {},
   "source": [
    "Below is the convention for simple formatting of text in Markdown"
   ]
  },
  {
   "cell_type": "raw",
   "metadata": {},
   "source": [
    "Italics         Surround text with asterisk (*) or underscore (_)\n",
    "Bold            Surround text with double asterisks (**) or double underscore (__)\n",
    "Code/Monospace  Surround text with left single left quote (`) - the key near the Esc button. \n",
    "Quote           Type a greater-than sign (>) at the beginning of a new line\n",
    "New Line        A new line (or line break) could be inserted by typing <br> \n",
    "Bullet List     Each item preceded by a `-` sign \n",
    "Numbered List   Each item preceded by a `n.`  "
   ]
  },
  {
   "cell_type": "markdown",
   "metadata": {},
   "source": [
    "Copy the cell below. Convert the copied cell to Markdown then format the words 'italics', 'bold', and 'code' into *Italic*, **Bold**, and `Code` respectively. Then insert line breaks so that each sentence is in its own line. Run the cell to see the effect."
   ]
  },
  {
   "cell_type": "raw",
   "metadata": {},
   "source": [
    "Is it true that italics came from Italy\n",
    "Be bold, be brave!\n",
    "I want to write code in Python."
   ]
  },
  {
   "cell_type": "markdown",
   "metadata": {},
   "source": [
    "Copy the cell below. Convert the copied cell to Markdown then format the quotation part of the text in Quote-format and run the cell."
   ]
  },
  {
   "cell_type": "raw",
   "metadata": {},
   "source": [
    "Linus Torvalds, the creator of the Linux kernel from which the Android OS was based, once said: \"Talk is cheap. Show me the code.\""
   ]
  },
  {
   "cell_type": "markdown",
   "metadata": {},
   "source": [
    "Copy the cell below. Convert the copied cell to Markdown then format the items below into a bullet list then run the cell."
   ]
  },
  {
   "cell_type": "raw",
   "metadata": {},
   "source": [
    "Item 1\n",
    "Item 2\n",
    "Item 3"
   ]
  },
  {
   "cell_type": "markdown",
   "metadata": {},
   "source": [
    "Copy the cell below. Convert the copied cell to Markdown then format the items below into a numbered list then run the cell."
   ]
  },
  {
   "cell_type": "raw",
   "metadata": {},
   "source": [
    "First\n",
    "Second\n",
    "Third"
   ]
  },
  {
   "cell_type": "markdown",
   "metadata": {},
   "source": [
    "[TABLE OF CONTENTS](#contents)"
   ]
  },
  {
   "cell_type": "markdown",
   "metadata": {},
   "source": [
    "<a id='lesson10'></a>"
   ]
  },
  {
   "cell_type": "markdown",
   "metadata": {},
   "source": [
    "# 10. Typing Formulas in LaTeX"
   ]
  },
  {
   "cell_type": "markdown",
   "metadata": {},
   "source": [
    "Jupyter can render in a web browser a subset of `LaTeX` commands using the `MathJax` library. "
   ]
  },
  {
   "cell_type": "markdown",
   "metadata": {},
   "source": [
    "## LaTeX Display in a Markdown Cell"
   ]
  },
  {
   "cell_type": "markdown",
   "metadata": {},
   "source": [
    "[Jupyter Notebooks documentation](http://jupyter-notebook.readthedocs.io/en/stable/examples/Notebook/Typesetting%20Equations.html):\n",
    "\n",
    "> The Markdown parser included in the Jupyter Notebook is MathJax-aware. This means that you can freely mix in mathematical expressions using the MathJax subset of Tex and LaTeX\n",
    "\n"
   ]
  },
  {
   "cell_type": "markdown",
   "metadata": {},
   "source": [
    "LaTex expressions could be displayed on their own line by surrounding the expression by **`$$`**. An example equation from the same [source](http://jupyter-notebook.readthedocs.io/en/stable/examples/Notebook/Typesetting%20Equations.html) is given two cells below. Copy the cell below, convert the copied cell to Markdown, surround it with `$$` then run it. "
   ]
  },
  {
   "cell_type": "raw",
   "metadata": {},
   "source": [
    "e^x=\\sum_{i=0}^\\infty \\frac{1}{i!}x^i"
   ]
  },
  {
   "cell_type": "markdown",
   "metadata": {},
   "source": [
    "## Inline LaTeX in a Markdown Cell"
   ]
  },
  {
   "cell_type": "markdown",
   "metadata": {},
   "source": [
    "Inline Typesetting is also possible by surrounding the expression by `$`. Below is a sample, again, from the same [source](http://jupyter-notebook.readthedocs.io/en/stable/examples/Notebook/Typesetting%20Equations.html) mentioned above. Copy the cell below. Convert the copied cell to Markdown, surround the expression by the dollar symbol (`$`) then run it. "
   ]
  },
  {
   "cell_type": "raw",
   "metadata": {},
   "source": [
    "This expression \\sqrt{3x-1}+(1+x)^2 is an example of a TeX inline equation in a [Markdown-formatted](https://daringfireball.net/projects/markdown/) sentence."
   ]
  },
  {
   "cell_type": "markdown",
   "metadata": {},
   "source": [
    "## LaTeX in a Code Cell"
   ]
  },
  {
   "cell_type": "markdown",
   "metadata": {},
   "source": [
    "You may need to write LaTeX equations in code to label your graphs. A sample is given below from the documentation of [Rich Display System](http://nbviewer.jupyter.org/github/ipython/ipython/blob/2.x/examples/Notebook/Display%20System.ipynb#LaTeX) of iPython. Convert the cell to Code and run it. "
   ]
  },
  {
   "cell_type": "raw",
   "metadata": {},
   "source": [
    "from IPython.display import Math\n",
    "Math(r'F(k) = \\int_{-\\infty}^{\\infty} f(x) e^{2\\pi i k} dx')"
   ]
  },
  {
   "cell_type": "markdown",
   "metadata": {},
   "source": [
    "[TABLE OF CONTENTS](#contents)"
   ]
  },
  {
   "cell_type": "markdown",
   "metadata": {},
   "source": [
    "# CONGRATULATIONS!"
   ]
  },
  {
   "cell_type": "markdown",
   "metadata": {},
   "source": [
    "You have just finished this mini tutorial on Jupyter Notebooks.<br>\n",
    "Hopefully this could help in your coding and research efforts, in whatever field of study you may be."
   ]
  },
  {
   "cell_type": "markdown",
   "metadata": {},
   "source": [
    "You may also want to check out the User Interface Tour. Just go to Menu and click on `Help| User Interface Tour`."
   ]
  },
  {
   "cell_type": "markdown",
   "metadata": {},
   "source": [
    "<a id='references'></a>"
   ]
  },
  {
   "cell_type": "markdown",
   "metadata": {},
   "source": [
    "# REFERENCES"
   ]
  },
  {
   "cell_type": "markdown",
   "metadata": {},
   "source": [
    "Summary of commands and formatting mentioned in this Tutorial"
   ]
  },
  {
   "cell_type": "markdown",
   "metadata": {},
   "source": [
    "###  Shortcut Commands "
   ]
  },
  {
   "cell_type": "raw",
   "metadata": {},
   "source": [
    "Lesson 1 - Introduction\n",
    "    Esc          Activate Command Mode\n",
    "    Enter        Activate Edit Mode\n",
    "    Down Arrow   Move to cell below\n",
    "    Up Arrow     Move to cell above\n",
    "    Shift-Enter  Run the current cell and move to the next cell (done in Edit Mode)\n",
    "    Ctrl-z       Undo changes in Edit Mode\n",
    "\n",
    "Lesson 2  - Creating, Inserting and Deleting Cells\n",
    "    b            Insert cell below\n",
    "    a            Insert cell above\n",
    "    m            Change cell type to Markdown (more on this below)\n",
    "    Shift-Enter  Run the current cell and move to the next cell (done in Edit Mode)\n",
    "\n",
    "Lesson 3  - Cell Types\n",
    "    y            Convert cell type to Code\n",
    "    m            Convert cell type to Markdown\n",
    "    r            Convert cell type to Raw\n",
    "    1            Convert cell type to Heading 1 (largest)\n",
    "    2            Convert cell type to Heading 2 \n",
    "    3            Convert cell type to Heading 3 \n",
    "    4            Convert cell type to Heading 4 \n",
    "    5            Convert cell type to Heading 5 \n",
    "    6            Convert cell type to Heading 6 (smallest)\n",
    "\n",
    "Lesson 4 - Moving Cells Around\n",
    "    c            Copy cell\n",
    "    v            Paste cell below\n",
    "    x            Cut cell (save in clipboard)\n",
    "    Shift-v      Paste cell above\n",
    "    dd           Delete cell (won't save cell in clipboard)\n",
    "    Shift-m      Merge this cell with the cell below; Merge all selected cells\n",
    "\n",
    "Lesson 5 - Running Cells\n",
    "    Ctrl-Enter   Run the cell then stay in the cell.\n",
    "    Shift-Enter  Run the cell then select the cell below it \n",
    "    Alt-Enter    Run the cell then insert a cell below it\n",
    "\n",
    "Lesson 6 - Formatting Code Outputs and Debugging Code\n",
    "    l            Toggle showing of line numbers\n",
    "    o            Toggle showing of cell outputs\n",
    "    ii           Interupt the Kernel\n",
    "\n",
    "Lesson 7 - Menu and Shortcuts Commands\n",
    "    h            Show Keyboardshortcuts\n",
    "\n",
    "Lesson 8 - Inserting Image\n",
    "    Shift-i     Insert an Image (in Command Mode)"
   ]
  },
  {
   "cell_type": "markdown",
   "metadata": {},
   "source": [
    "###   Markdown Text Formatting"
   ]
  },
  {
   "cell_type": "raw",
   "metadata": {},
   "source": [
    "Italics         Surround text with asterisk (*) or underscore (_)\n",
    "Bold            Surround text with double asterisks (**) or double underscore (__)\n",
    "Code/Monospace  Surround text with left single left quote (`) - the key near the Esc button. \n",
    "Quote           Type a greater-than sign (>) at the beginning of a new line\n",
    "New Line        A new line (or line break) could be inserted by typing <br> \n",
    "Bullet List     Each item preceded by a `-` sign \n",
    "Numbered List   Each item preceded by a `n.`  "
   ]
  },
  {
   "cell_type": "markdown",
   "metadata": {},
   "source": [
    "### LaTeX Formatting (in Markdown)"
   ]
  },
  {
   "cell_type": "raw",
   "metadata": {},
   "source": [
    "Full-line LaTeX  Surround the expression with a double dollar symbol ($$)\n",
    "Inline LaTeX     Surround the expression with a single dollar symbol ($)"
   ]
  },
  {
   "cell_type": "markdown",
   "metadata": {},
   "source": [
    "### Some Useful Commands"
   ]
  },
  {
   "cell_type": "raw",
   "metadata": {},
   "source": [
    "- File| New Notebook\n",
    "- File| Rename\n",
    "- File| Save and Checkpoint\n",
    "\n",
    "- Edit| Cut Cells\n",
    "- Edit| Copy Cells\n",
    "- Edit| Paste Cells Above\n",
    "- Edit| Paste Cells Below\n",
    "- Edit| Delete Cells\n",
    "- Edit| Merge Cells Above\n",
    "- Edit| Merge Cells Below\n",
    "- Edit| Move Cell Up\n",
    "- Edit| Move Cell Below\n",
    "\n",
    "- Cell| Cell Type\n",
    "- Cell| Run All\n",
    "- Cell| Run Above\n",
    "- Cell| Run Below\n",
    "- Cell| Current Output| Toggle\n",
    "- Cell| Current Output| Toggle Scrolling\n",
    "- Cell| Current Output| Clear\n",
    "- Cell| All Outputs| Toggle\n",
    "- Cell| All Outputs| Toggle Scrolling\n",
    "- Cell| All Outputs| Clear"
   ]
  },
  {
   "cell_type": "markdown",
   "metadata": {},
   "source": [
    "[TABLE OF CONTENTS](#contents)"
   ]
  }
 ],
 "metadata": {
  "hide_input": false,
  "kernelspec": {
   "display_name": "Python 3",
   "language": "python",
   "name": "python3"
  },
  "language_info": {
   "codemirror_mode": {
    "name": "ipython",
    "version": 3
   },
   "file_extension": ".py",
   "mimetype": "text/x-python",
   "name": "python",
   "nbconvert_exporter": "python",
   "pygments_lexer": "ipython3",
   "version": "3.7.3"
  }
 },
 "nbformat": 4,
 "nbformat_minor": 2
}
